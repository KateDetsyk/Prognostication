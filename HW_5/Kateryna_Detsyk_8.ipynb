{
 "cells": [
  {
   "cell_type": "markdown",
   "metadata": {},
   "source": [
    "# HW 5"
   ]
  },
  {
   "cell_type": "code",
   "execution_count": 1,
   "metadata": {},
   "outputs": [],
   "source": [
    "from scipy import stats\n",
    "import matplotlib.pyplot as plt\n",
    "%matplotlib inline\n",
    "import scipy\n",
    "import numpy as np\n",
    "from scipy.stats import truncnorm"
   ]
  },
  {
   "cell_type": "code",
   "execution_count": 2,
   "metadata": {},
   "outputs": [
    {
     "data": {
      "text/plain": [
       "8"
      ]
     },
     "execution_count": 2,
     "metadata": {},
     "output_type": "execute_result"
    }
   ],
   "source": [
    "student = max(2, 10-2)\n",
    "student"
   ]
  },
  {
   "cell_type": "markdown",
   "metadata": {},
   "source": [
    "**Fit a lognormal distribution to the measurements of maximal flowrate**\n",
    "* **check that a lognormal distribution fits this data well, using a quantile-quantile  plot**"
   ]
  },
  {
   "cell_type": "code",
   "execution_count": 3,
   "metadata": {},
   "outputs": [],
   "source": [
    "observations = [111*student, 73*student, 57*student, 106*student, 134*student, 265*student, 295*student, \n",
    "               89*student, 71*student, 119*student, 52*student, 63*student, 212*student, 106*student, \n",
    "               29*student, 217*student, 172*student, 84*student, 131*student]"
   ]
  },
  {
   "cell_type": "code",
   "execution_count": 4,
   "metadata": {},
   "outputs": [
    {
     "data": {
      "text/plain": [
       "[888,\n",
       " 584,\n",
       " 456,\n",
       " 848,\n",
       " 1072,\n",
       " 2120,\n",
       " 2360,\n",
       " 712,\n",
       " 568,\n",
       " 952,\n",
       " 416,\n",
       " 504,\n",
       " 1696,\n",
       " 848,\n",
       " 232,\n",
       " 1736,\n",
       " 1376,\n",
       " 672,\n",
       " 1048]"
      ]
     },
     "execution_count": 4,
     "metadata": {},
     "output_type": "execute_result"
    }
   ],
   "source": [
    "observations"
   ]
  },
  {
   "cell_type": "code",
   "execution_count": 5,
   "metadata": {},
   "outputs": [
    {
     "data": {
      "text/plain": [
       "(array([2., 4., 4., 4., 0., 1., 1., 1., 1., 1.]),\n",
       " array([ 232. ,  444.8,  657.6,  870.4, 1083.2, 1296. , 1508.8, 1721.6,\n",
       "        1934.4, 2147.2, 2360. ]),\n",
       " <a list of 10 Patch objects>)"
      ]
     },
     "execution_count": 5,
     "metadata": {},
     "output_type": "execute_result"
    },
    {
     "data": {
      "image/png": "[encoded data removed]",
      "text/plain": [
       "<Figure size 432x288 with 1 Axes>"
      ]
     },
     "metadata": {
      "needs_background": "light"
     },
     "output_type": "display_data"
    }
   ],
   "source": [
    "plt.hist(observations)"
   ]
  },
  {
   "cell_type": "code",
   "execution_count": 6,
   "metadata": {},
   "outputs": [
    {
     "data": {
      "text/plain": [
       "(0.5607743787926187, -28.383386688729605, 886.4495909784939)"
      ]
     },
     "execution_count": 6,
     "metadata": {},
     "output_type": "execute_result"
    }
   ],
   "source": [
    "shape, loc, scale = stats.lognorm.fit(observations)\n",
    "shape, loc, scale"
   ]
  },
  {
   "cell_type": "code",
   "execution_count": 7,
   "metadata": {},
   "outputs": [
    {
     "data": {
      "text/plain": [
       "((array([ 294.42996695,  385.03485473,  453.48665197,  513.61258454,\n",
       "          570.09608771,  625.23468423,  680.49241975,  737.00920895,\n",
       "          795.83297569,  858.06620429,  924.99841111,  998.2699698 ,\n",
       "         1080.12232081, 1173.8368583 , 1284.59878056, 1421.42974673,\n",
       "         1602.33198117, 1872.33796186, 2405.81850889]),\n",
       "  array([ 232,  416,  456,  504,  568,  584,  672,  712,  848,  848,  888,\n",
       "          952, 1048, 1072, 1376, 1696, 1736, 2120, 2360])),\n",
       " (1.0760779174624526, -53.15528942842218, 0.9881264939176173))"
      ]
     },
     "execution_count": 7,
     "metadata": {},
     "output_type": "execute_result"
    },
    {
     "data": {
      "image/png": "[encoded data removed]",
      "text/plain": [
       "<Figure size 432x288 with 1 Axes>"
      ]
     },
     "metadata": {
      "needs_background": "light"
     },
     "output_type": "display_data"
    }
   ],
   "source": [
    "stats.probplot(observations, dist=scipy.stats.lognorm(shape,loc,scale),  plot=plt.figure().add_subplot(111))"
   ]
  },
  {
   "cell_type": "markdown",
   "metadata": {},
   "source": [
    "**Calculate the average height of the river by making a deterministic  calculation**\n",
    "* **use median values for each uncertain parameter**"
   ]
  },
  {
   "cell_type": "markdown",
   "metadata": {},
   "source": [
    "Truncated normal 𝒩(3*(#student+1), *(#student+1 ) on [3*(#student+1, +∞].\n",
    "\n",
    "I take 4, as a missing number before *.\n",
    "\n",
    "𝒩(27, 36)"
   ]
  },
  {
   "cell_type": "code",
   "execution_count": 13,
   "metadata": {
    "scrolled": true
   },
   "outputs": [],
   "source": [
    "Q = np.array([stats.lognorm(shape,loc,scale).rvs() for i in range(100)])\n",
    "Ks = np.array([max(truncnorm(27, 36).rvs(), 27) for i in range(100)])\n",
    "Zv = np.array([np.random.triangular(49, 50, 51) for i in range(100)])\n",
    "Zm = np.array([np.random.triangular(54, 55, 56) for i in range(100)])\n",
    "L = 500 * student\n",
    "B = 30 * student"
   ]
  },
  {
   "cell_type": "code",
   "execution_count": 14,
   "metadata": {},
   "outputs": [
    {
     "data": {
      "text/plain": [
       "2.5278414808821803"
      ]
     },
     "execution_count": 14,
     "metadata": {},
     "output_type": "execute_result"
    }
   ],
   "source": [
    "Zc = (np.median(Q) / (np.median(Ks) * B * np.sqrt((np.median(Zm) - np.median(Zv)) / L))) ** (3 / 5)\n",
    "Zc"
   ]
  },
  {
   "cell_type": "markdown",
   "metadata": {},
   "source": [
    "**Produce a histogram of possible water levels, given the input uncertainty, using a Monte Carlo approach**\n",
    "\n",
    "**Estimate the 100-year flood level for this river**\n",
    "* **note: specialists use the term 0.01 annual exceedance probability flood,  meaning a flood that has a 1% chance of happening in any given year**"
   ]
  },
  {
   "cell_type": "code",
   "execution_count": 15,
   "metadata": {},
   "outputs": [],
   "source": [
    "def water_level():\n",
    "    Zc = (stats.lognorm(shape,loc,scale).rvs() / ( max(truncnorm(27, 36).rvs(), 27) * B * \n",
    "          np.sqrt((np.random.triangular(54, 55, 56) - np.random.triangular(49, 50, 51)) / L))) ** (3 / 5)\n",
    "    return Zc\n",
    "\n",
    "MC = np.array([water_level() for i in range(100)])"
   ]
  },
  {
   "cell_type": "code",
   "execution_count": 16,
   "metadata": {},
   "outputs": [
    {
     "data": {
      "text/plain": [
       "(array([ 8., 25., 19., 12., 14., 10.,  7.,  1.,  2.,  2.]),\n",
       " array([0.95943885, 1.33202443, 1.70461002, 2.0771956 , 2.44978119,\n",
       "        2.82236677, 3.19495236, 3.56753794, 3.94012352, 4.31270911,\n",
       "        4.68529469]),\n",
       " <a list of 10 Patch objects>)"
      ]
     },
     "execution_count": 16,
     "metadata": {},
     "output_type": "execute_result"
    },
    {
     "data": {
      "image/png": "[encoded data removed]",
      "text/plain": [
       "<Figure size 432x288 with 1 Axes>"
      ]
     },
     "metadata": {
      "needs_background": "light"
     },
     "output_type": "display_data"
    }
   ],
   "source": [
    "plt.hist(MC)"
   ]
  },
  {
   "cell_type": "code",
   "execution_count": 17,
   "metadata": {},
   "outputs": [
    {
     "data": {
      "text/plain": [
       "4.499382979374417"
      ]
     },
     "execution_count": 17,
     "metadata": {},
     "output_type": "execute_result"
    }
   ],
   "source": [
    "np.percentile(MC, 99)"
   ]
  },
  {
   "cell_type": "code",
   "execution_count": null,
   "metadata": {},
   "outputs": [],
   "source": []
  }
 ],
 "metadata": {
  "kernelspec": {
   "display_name": "Python 3",
   "language": "python",
   "name": "python3"
  },
  "language_info": {
   "codemirror_mode": {
    "name": "ipython",
    "version": 3
   },
   "file_extension": ".py",
   "mimetype": "text/x-python",
   "name": "python",
   "nbconvert_exporter": "python",
   "pygments_lexer": "ipython3",
   "version": "3.8.3"
  }
 },
 "nbformat": 4,
 "nbformat_minor": 4
}
