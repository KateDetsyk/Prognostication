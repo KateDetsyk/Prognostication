{
 "cells": [
  {
   "cell_type": "markdown",
   "metadata": {},
   "source": [
    "# Part 1 Лінійне програмування\n"
   ]
  },
  {
   "cell_type": "code",
   "execution_count": 1,
   "metadata": {},
   "outputs": [],
   "source": [
    "import numpy as np\n",
    "import pandas as pd\n",
    "import math\n",
    "import matplotlib.pyplot as plt\n",
    "from matplotlib import rcParams\n",
    "from scipy.optimize import linprog\n",
    "%matplotlib inline\n",
    "rcParams[\"figure.figsize\"]=(18,5)"
   ]
  },
  {
   "cell_type": "markdown",
   "metadata": {},
   "source": [
    "**На 2 тони врожаю потрібно залучити 1 працівника. Тобто якщо у forecast на певний місяць в нас 100 тон врожаю - нам потрібно залучити 50 працівників.**\n"
   ]
  },
  {
   "cell_type": "code",
   "execution_count": 2,
   "metadata": {},
   "outputs": [
    {
     "name": "stdout",
     "output_type": "stream",
     "text": [
      "[155, 143, 130, 118, 113, 121, 126, 133, 132, 150, 152, 155]\n"
     ]
    },
    {
     "data": {
      "text/plain": [
       "[<matplotlib.lines.Line2D at 0x1b3ba57ea00>]"
      ]
     },
     "execution_count": 2,
     "metadata": {},
     "output_type": "execute_result"
    },
    {
     "data": {
      "image/png": "[encoded data removed]",
      "text/plain": [
       "<Figure size 1296x360 with 1 Axes>"
      ]
     },
     "metadata": {
      "needs_background": "light"
     },
     "output_type": "display_data"
    }
   ],
   "source": [
    "# Planing horizont\n",
    "h = 12\n",
    "# Prediction\n",
    "forecast = [309.191369, 284.903280, 259.736828, 234.424177, 224.386887, 241.511760, \n",
    "            250.088411, 265.726641, 262.606300, 298.074115, 302.367941, 308.476907]\n",
    "\n",
    "# amount of workers for the specific month\n",
    "# round to bigger\n",
    "goal = [math.ceil(i / 2) for i in forecast] \n",
    "\n",
    "print(goal)\n",
    "plt.plot(goal, color='salmon')"
   ]
  },
  {
   "cell_type": "markdown",
   "metadata": {},
   "source": [
    "**Працівників можна наймати, використовуючи 4 типи контрактів:**\n",
    "* **3 місячний термін, страховий збір 300 у.о. на початку, мзп 1000 у.о.**\n",
    "* **4 місячний термін, щомісячний страховий збір 110 у.о., мзп 900 у.о.**\n",
    "* **7 місячний термін, щомісячний страховий збір 110 у.о. перші 3 місяці і 90 у.о. наступні 4 місяці, бонус по завершенні контракту 100 у.о і мзп 850 у.о.**\n",
    "* **5 місячний термін, початковий бонус 450 у.о., мзп 950 у.о.**\n"
   ]
  },
  {
   "cell_type": "code",
   "execution_count": 3,
   "metadata": {},
   "outputs": [],
   "source": [
    "# Workers information\n",
    "avail_workers = [3, 4, 7, 5]"
   ]
  },
  {
   "cell_type": "code",
   "execution_count": 4,
   "metadata": {},
   "outputs": [
    {
     "data": {
      "text/plain": [
       "[3282.077263066601, 4006.6060807157696, 6628.361087217554, 5143.943682547125]"
      ]
     },
     "execution_count": 4,
     "metadata": {},
     "output_type": "execute_result"
    }
   ],
   "source": [
    "###### COSTS  ########\n",
    "rho = -0.005\n",
    "mzp = [1000, 900, 850, 950]\n",
    "bonus = [0, 0, 100, 450]\n",
    "insurance_fee = [300, (4*110), (3*110 + 4*90), 0] \n",
    "\n",
    "cost = []\n",
    "index = 0\n",
    "for worker in avail_workers:\n",
    "    temp_cost = 0\n",
    "    for p in range(worker):\n",
    "        temp_cost +=  np.exp(rho * p) * mzp[index]\n",
    "    temp_cost += np.exp(rho * p) * bonus[index]\n",
    "    temp_cost += np.exp(rho * p) * insurance_fee[index]\n",
    "    cost.append(temp_cost)\n",
    "    index += 1\n",
    "cost"
   ]
  },
  {
   "cell_type": "code",
   "execution_count": 5,
   "metadata": {},
   "outputs": [
    {
     "data": {
      "text/plain": [
       "array([3282.07726307, 3282.07726307, 3282.07726307, 3282.07726307,\n",
       "       3282.07726307, 3282.07726307, 3282.07726307, 3282.07726307,\n",
       "       3282.07726307, 3282.07726307, 3282.07726307, 3282.07726307,\n",
       "       4006.60608072, 4006.60608072, 4006.60608072, 4006.60608072,\n",
       "       4006.60608072, 4006.60608072, 4006.60608072, 4006.60608072,\n",
       "       4006.60608072, 4006.60608072, 4006.60608072, 4006.60608072,\n",
       "       6628.36108722, 6628.36108722, 6628.36108722, 6628.36108722,\n",
       "       6628.36108722, 6628.36108722, 6628.36108722, 6628.36108722,\n",
       "       6628.36108722, 6628.36108722, 6628.36108722, 6628.36108722,\n",
       "       5143.94368255, 5143.94368255, 5143.94368255, 5143.94368255,\n",
       "       5143.94368255, 5143.94368255, 5143.94368255, 5143.94368255,\n",
       "       5143.94368255, 5143.94368255, 5143.94368255, 5143.94368255])"
      ]
     },
     "execution_count": 5,
     "metadata": {},
     "output_type": "execute_result"
    }
   ],
   "source": [
    "# Objective function\n",
    "vec_min = np.array([i for i in cost for _ in range(h)])\n",
    "vec_min"
   ]
  },
  {
   "cell_type": "code",
   "execution_count": 6,
   "metadata": {},
   "outputs": [
    {
     "name": "stdout",
     "output_type": "stream",
     "text": [
      "48\n"
     ]
    }
   ],
   "source": [
    "print(len(vec_min))"
   ]
  },
  {
   "cell_type": "code",
   "execution_count": 7,
   "metadata": {},
   "outputs": [],
   "source": [
    "# Constraint matrix rows: h (1 year in our case), cols: len(avail_workers) * h (4 * 1 year)\n",
    "A_full = np.empty((h, h * len(avail_workers)), dtype=np.int64)\n",
    "for n, m in enumerate(avail_workers):\n",
    "    A_temp = np.zeros((h, h), dtype=np.int64)\n",
    "    for i in range(h):\n",
    "        for j in range(max(0, i-m+1), min(i+1, h)):\n",
    "            A_temp[i, j] = 1\n",
    "    A_full[:, h * n: h * (n+1)] = A_temp\n",
    "A_con = A_full[:h, :]"
   ]
  },
  {
   "cell_type": "code",
   "execution_count": 8,
   "metadata": {},
   "outputs": [
    {
     "data": {
      "text/html": [
       "<div>\n",
       "<style scoped>\n",
       "    .dataframe tbody tr th:only-of-type {\n",
       "        vertical-align: middle;\n",
       "    }\n",
       "\n",
       "    .dataframe tbody tr th {\n",
       "        vertical-align: top;\n",
       "    }\n",
       "\n",
       "    .dataframe thead th {\n",
       "        text-align: right;\n",
       "    }\n",
       "</style>\n",
       "<table border=\"1\" class=\"dataframe\">\n",
       "  <thead>\n",
       "    <tr style=\"text-align: right;\">\n",
       "      <th></th>\n",
       "      <th>0</th>\n",
       "      <th>1</th>\n",
       "      <th>2</th>\n",
       "      <th>3</th>\n",
       "      <th>4</th>\n",
       "      <th>5</th>\n",
       "      <th>6</th>\n",
       "      <th>7</th>\n",
       "      <th>8</th>\n",
       "      <th>9</th>\n",
       "      <th>...</th>\n",
       "      <th>38</th>\n",
       "      <th>39</th>\n",
       "      <th>40</th>\n",
       "      <th>41</th>\n",
       "      <th>42</th>\n",
       "      <th>43</th>\n",
       "      <th>44</th>\n",
       "      <th>45</th>\n",
       "      <th>46</th>\n",
       "      <th>47</th>\n",
       "    </tr>\n",
       "  </thead>\n",
       "  <tbody>\n",
       "    <tr>\n",
       "      <th>0</th>\n",
       "      <td>1</td>\n",
       "      <td>0</td>\n",
       "      <td>0</td>\n",
       "      <td>0</td>\n",
       "      <td>0</td>\n",
       "      <td>0</td>\n",
       "      <td>0</td>\n",
       "      <td>0</td>\n",
       "      <td>0</td>\n",
       "      <td>0</td>\n",
       "      <td>...</td>\n",
       "      <td>0</td>\n",
       "      <td>0</td>\n",
       "      <td>0</td>\n",
       "      <td>0</td>\n",
       "      <td>0</td>\n",
       "      <td>0</td>\n",
       "      <td>0</td>\n",
       "      <td>0</td>\n",
       "      <td>0</td>\n",
       "      <td>0</td>\n",
       "    </tr>\n",
       "    <tr>\n",
       "      <th>1</th>\n",
       "      <td>1</td>\n",
       "      <td>1</td>\n",
       "      <td>0</td>\n",
       "      <td>0</td>\n",
       "      <td>0</td>\n",
       "      <td>0</td>\n",
       "      <td>0</td>\n",
       "      <td>0</td>\n",
       "      <td>0</td>\n",
       "      <td>0</td>\n",
       "      <td>...</td>\n",
       "      <td>0</td>\n",
       "      <td>0</td>\n",
       "      <td>0</td>\n",
       "      <td>0</td>\n",
       "      <td>0</td>\n",
       "      <td>0</td>\n",
       "      <td>0</td>\n",
       "      <td>0</td>\n",
       "      <td>0</td>\n",
       "      <td>0</td>\n",
       "    </tr>\n",
       "    <tr>\n",
       "      <th>2</th>\n",
       "      <td>1</td>\n",
       "      <td>1</td>\n",
       "      <td>1</td>\n",
       "      <td>0</td>\n",
       "      <td>0</td>\n",
       "      <td>0</td>\n",
       "      <td>0</td>\n",
       "      <td>0</td>\n",
       "      <td>0</td>\n",
       "      <td>0</td>\n",
       "      <td>...</td>\n",
       "      <td>1</td>\n",
       "      <td>0</td>\n",
       "      <td>0</td>\n",
       "      <td>0</td>\n",
       "      <td>0</td>\n",
       "      <td>0</td>\n",
       "      <td>0</td>\n",
       "      <td>0</td>\n",
       "      <td>0</td>\n",
       "      <td>0</td>\n",
       "    </tr>\n",
       "    <tr>\n",
       "      <th>3</th>\n",
       "      <td>0</td>\n",
       "      <td>1</td>\n",
       "      <td>1</td>\n",
       "      <td>1</td>\n",
       "      <td>0</td>\n",
       "      <td>0</td>\n",
       "      <td>0</td>\n",
       "      <td>0</td>\n",
       "      <td>0</td>\n",
       "      <td>0</td>\n",
       "      <td>...</td>\n",
       "      <td>1</td>\n",
       "      <td>1</td>\n",
       "      <td>0</td>\n",
       "      <td>0</td>\n",
       "      <td>0</td>\n",
       "      <td>0</td>\n",
       "      <td>0</td>\n",
       "      <td>0</td>\n",
       "      <td>0</td>\n",
       "      <td>0</td>\n",
       "    </tr>\n",
       "    <tr>\n",
       "      <th>4</th>\n",
       "      <td>0</td>\n",
       "      <td>0</td>\n",
       "      <td>1</td>\n",
       "      <td>1</td>\n",
       "      <td>1</td>\n",
       "      <td>0</td>\n",
       "      <td>0</td>\n",
       "      <td>0</td>\n",
       "      <td>0</td>\n",
       "      <td>0</td>\n",
       "      <td>...</td>\n",
       "      <td>1</td>\n",
       "      <td>1</td>\n",
       "      <td>1</td>\n",
       "      <td>0</td>\n",
       "      <td>0</td>\n",
       "      <td>0</td>\n",
       "      <td>0</td>\n",
       "      <td>0</td>\n",
       "      <td>0</td>\n",
       "      <td>0</td>\n",
       "    </tr>\n",
       "    <tr>\n",
       "      <th>5</th>\n",
       "      <td>0</td>\n",
       "      <td>0</td>\n",
       "      <td>0</td>\n",
       "      <td>1</td>\n",
       "      <td>1</td>\n",
       "      <td>1</td>\n",
       "      <td>0</td>\n",
       "      <td>0</td>\n",
       "      <td>0</td>\n",
       "      <td>0</td>\n",
       "      <td>...</td>\n",
       "      <td>1</td>\n",
       "      <td>1</td>\n",
       "      <td>1</td>\n",
       "      <td>1</td>\n",
       "      <td>0</td>\n",
       "      <td>0</td>\n",
       "      <td>0</td>\n",
       "      <td>0</td>\n",
       "      <td>0</td>\n",
       "      <td>0</td>\n",
       "    </tr>\n",
       "    <tr>\n",
       "      <th>6</th>\n",
       "      <td>0</td>\n",
       "      <td>0</td>\n",
       "      <td>0</td>\n",
       "      <td>0</td>\n",
       "      <td>1</td>\n",
       "      <td>1</td>\n",
       "      <td>1</td>\n",
       "      <td>0</td>\n",
       "      <td>0</td>\n",
       "      <td>0</td>\n",
       "      <td>...</td>\n",
       "      <td>1</td>\n",
       "      <td>1</td>\n",
       "      <td>1</td>\n",
       "      <td>1</td>\n",
       "      <td>1</td>\n",
       "      <td>0</td>\n",
       "      <td>0</td>\n",
       "      <td>0</td>\n",
       "      <td>0</td>\n",
       "      <td>0</td>\n",
       "    </tr>\n",
       "    <tr>\n",
       "      <th>7</th>\n",
       "      <td>0</td>\n",
       "      <td>0</td>\n",
       "      <td>0</td>\n",
       "      <td>0</td>\n",
       "      <td>0</td>\n",
       "      <td>1</td>\n",
       "      <td>1</td>\n",
       "      <td>1</td>\n",
       "      <td>0</td>\n",
       "      <td>0</td>\n",
       "      <td>...</td>\n",
       "      <td>0</td>\n",
       "      <td>1</td>\n",
       "      <td>1</td>\n",
       "      <td>1</td>\n",
       "      <td>1</td>\n",
       "      <td>1</td>\n",
       "      <td>0</td>\n",
       "      <td>0</td>\n",
       "      <td>0</td>\n",
       "      <td>0</td>\n",
       "    </tr>\n",
       "    <tr>\n",
       "      <th>8</th>\n",
       "      <td>0</td>\n",
       "      <td>0</td>\n",
       "      <td>0</td>\n",
       "      <td>0</td>\n",
       "      <td>0</td>\n",
       "      <td>0</td>\n",
       "      <td>1</td>\n",
       "      <td>1</td>\n",
       "      <td>1</td>\n",
       "      <td>0</td>\n",
       "      <td>...</td>\n",
       "      <td>0</td>\n",
       "      <td>0</td>\n",
       "      <td>1</td>\n",
       "      <td>1</td>\n",
       "      <td>1</td>\n",
       "      <td>1</td>\n",
       "      <td>1</td>\n",
       "      <td>0</td>\n",
       "      <td>0</td>\n",
       "      <td>0</td>\n",
       "    </tr>\n",
       "    <tr>\n",
       "      <th>9</th>\n",
       "      <td>0</td>\n",
       "      <td>0</td>\n",
       "      <td>0</td>\n",
       "      <td>0</td>\n",
       "      <td>0</td>\n",
       "      <td>0</td>\n",
       "      <td>0</td>\n",
       "      <td>1</td>\n",
       "      <td>1</td>\n",
       "      <td>1</td>\n",
       "      <td>...</td>\n",
       "      <td>0</td>\n",
       "      <td>0</td>\n",
       "      <td>0</td>\n",
       "      <td>1</td>\n",
       "      <td>1</td>\n",
       "      <td>1</td>\n",
       "      <td>1</td>\n",
       "      <td>1</td>\n",
       "      <td>0</td>\n",
       "      <td>0</td>\n",
       "    </tr>\n",
       "    <tr>\n",
       "      <th>10</th>\n",
       "      <td>0</td>\n",
       "      <td>0</td>\n",
       "      <td>0</td>\n",
       "      <td>0</td>\n",
       "      <td>0</td>\n",
       "      <td>0</td>\n",
       "      <td>0</td>\n",
       "      <td>0</td>\n",
       "      <td>1</td>\n",
       "      <td>1</td>\n",
       "      <td>...</td>\n",
       "      <td>0</td>\n",
       "      <td>0</td>\n",
       "      <td>0</td>\n",
       "      <td>0</td>\n",
       "      <td>1</td>\n",
       "      <td>1</td>\n",
       "      <td>1</td>\n",
       "      <td>1</td>\n",
       "      <td>1</td>\n",
       "      <td>0</td>\n",
       "    </tr>\n",
       "    <tr>\n",
       "      <th>11</th>\n",
       "      <td>0</td>\n",
       "      <td>0</td>\n",
       "      <td>0</td>\n",
       "      <td>0</td>\n",
       "      <td>0</td>\n",
       "      <td>0</td>\n",
       "      <td>0</td>\n",
       "      <td>0</td>\n",
       "      <td>0</td>\n",
       "      <td>1</td>\n",
       "      <td>...</td>\n",
       "      <td>0</td>\n",
       "      <td>0</td>\n",
       "      <td>0</td>\n",
       "      <td>0</td>\n",
       "      <td>0</td>\n",
       "      <td>1</td>\n",
       "      <td>1</td>\n",
       "      <td>1</td>\n",
       "      <td>1</td>\n",
       "      <td>1</td>\n",
       "    </tr>\n",
       "  </tbody>\n",
       "</table>\n",
       "<p>12 rows × 48 columns</p>\n",
       "</div>"
      ],
      "text/plain": [
       "    0   1   2   3   4   5   6   7   8   9   ...  38  39  40  41  42  43  44  \\\n",
       "0    1   0   0   0   0   0   0   0   0   0  ...   0   0   0   0   0   0   0   \n",
       "1    1   1   0   0   0   0   0   0   0   0  ...   0   0   0   0   0   0   0   \n",
       "2    1   1   1   0   0   0   0   0   0   0  ...   1   0   0   0   0   0   0   \n",
       "3    0   1   1   1   0   0   0   0   0   0  ...   1   1   0   0   0   0   0   \n",
       "4    0   0   1   1   1   0   0   0   0   0  ...   1   1   1   0   0   0   0   \n",
       "5    0   0   0   1   1   1   0   0   0   0  ...   1   1   1   1   0   0   0   \n",
       "6    0   0   0   0   1   1   1   0   0   0  ...   1   1   1   1   1   0   0   \n",
       "7    0   0   0   0   0   1   1   1   0   0  ...   0   1   1   1   1   1   0   \n",
       "8    0   0   0   0   0   0   1   1   1   0  ...   0   0   1   1   1   1   1   \n",
       "9    0   0   0   0   0   0   0   1   1   1  ...   0   0   0   1   1   1   1   \n",
       "10   0   0   0   0   0   0   0   0   1   1  ...   0   0   0   0   1   1   1   \n",
       "11   0   0   0   0   0   0   0   0   0   1  ...   0   0   0   0   0   1   1   \n",
       "\n",
       "    45  46  47  \n",
       "0    0   0   0  \n",
       "1    0   0   0  \n",
       "2    0   0   0  \n",
       "3    0   0   0  \n",
       "4    0   0   0  \n",
       "5    0   0   0  \n",
       "6    0   0   0  \n",
       "7    0   0   0  \n",
       "8    0   0   0  \n",
       "9    1   0   0  \n",
       "10   1   1   0  \n",
       "11   1   1   1  \n",
       "\n",
       "[12 rows x 48 columns]"
      ]
     },
     "execution_count": 8,
     "metadata": {},
     "output_type": "execute_result"
    }
   ],
   "source": [
    "pd.DataFrame(A_con)"
   ]
  },
  {
   "cell_type": "code",
   "execution_count": 9,
   "metadata": {},
   "outputs": [
    {
     "name": "stdout",
     "output_type": "stream",
     "text": [
      "     con: array([], dtype=float64)\n",
      "     fun: 1665324.2796688867\n",
      " message: 'Optimization terminated successfully.'\n",
      "     nit: 16\n",
      "   slack: array([ 0., 12., 25.,  0.,  0.,  0.,  0.,  0.,  0.,  0.,  0.,  0.])\n",
      "  status: 0\n",
      " success: True\n",
      "       x: array([ 37.,   0.,   0.,   0.,   0.,   0.,   5.,   0.,   0.,  23.,   2.,\n",
      "         3.,   6.,   0.,   0.,   0.,   1.,   0.,   0.,   0.,   0.,   0.,\n",
      "         0.,   0.,   0.,   0.,   0.,   0.,   0., 120.,   0.,   0.,   0.,\n",
      "         0.,   0.,   0., 112.,   0.,   0.,   0.,   0.,   0.,   0.,   7.,\n",
      "         0.,   0.,   0.,   0.])\n"
     ]
    }
   ],
   "source": [
    "#### Optimizer\n",
    "c = vec_min\n",
    "b = - np.array(goal) \n",
    "A = - A_con\n",
    "\n",
    "res = linprog(c, A, b, method='simplex')\n",
    "print(res)"
   ]
  },
  {
   "cell_type": "code",
   "execution_count": 10,
   "metadata": {},
   "outputs": [
    {
     "name": "stdout",
     "output_type": "stream",
     "text": [
      "[[ 37.   6.   0. 112.]\n",
      " [  0.   0.   0.   0.]\n",
      " [  0.   0.   0.   0.]\n",
      " [  0.   0.   0.   0.]\n",
      " [  0.   1.   0.   0.]\n",
      " [  0.   0. 120.   0.]\n",
      " [  5.   0.   0.   0.]\n",
      " [  0.   0.   0.   7.]\n",
      " [  0.   0.   0.   0.]\n",
      " [ 23.   0.   0.   0.]\n",
      " [  2.   0.   0.   0.]\n",
      " [  3.   0.   0.   0.]]\n",
      "[[155.]\n",
      " [155.]\n",
      " [155.]\n",
      " [118.]\n",
      " [113.]\n",
      " [121.]\n",
      " [126.]\n",
      " [133.]\n",
      " [132.]\n",
      " [150.]\n",
      " [152.]\n",
      " [155.]]\n"
     ]
    }
   ],
   "source": [
    "opt = np.asmatrix(np.ceil(res.x))\n",
    "plan = opt.reshape((len(avail_workers), -1)).transpose()\n",
    "result = np.asmatrix(A_con) * np.asmatrix(opt).transpose()\n",
    "print(plan)\n",
    "print(result)"
   ]
  },
  {
   "cell_type": "code",
   "execution_count": 11,
   "metadata": {},
   "outputs": [
    {
     "data": {
      "text/plain": [
       "[155, 143, 130, 118, 113, 121, 126, 133, 132, 150, 152, 155]"
      ]
     },
     "execution_count": 11,
     "metadata": {},
     "output_type": "execute_result"
    }
   ],
   "source": [
    "goal"
   ]
  },
  {
   "cell_type": "markdown",
   "metadata": {},
   "source": [
    "**We have too many workers for the 2nd and 3rd monthes, I gess it's because we need to hire 155 workers for the first month and they will be still hired at least 2 more monthes. So only after 3rd month we'll get nice results.**"
   ]
  },
  {
   "cell_type": "code",
   "execution_count": 12,
   "metadata": {},
   "outputs": [
    {
     "data": {
      "text/plain": [
       "<matplotlib.legend.Legend at 0x1b3ba62b670>"
      ]
     },
     "execution_count": 12,
     "metadata": {},
     "output_type": "execute_result"
    },
    {
     "data": {
      "image/png": "[encoded data removed]",
      "text/plain": [
       "<Figure size 1296x360 with 1 Axes>"
      ]
     },
     "metadata": {
      "needs_background": "light"
     },
     "output_type": "display_data"
    }
   ],
   "source": [
    "plt.plot(goal, label=\"goal\")\n",
    "plt.plot(result, label=\"result\")\n",
    "plt.legend(loc='lower right')"
   ]
  },
  {
   "cell_type": "markdown",
   "metadata": {},
   "source": [
    "# Part 2 Нелінійне програмування"
   ]
  },
  {
   "cell_type": "markdown",
   "metadata": {},
   "source": [
    "**На основі одержаного прогнозу, побудувати задачу максимізації грос профіту, використовуючи функцію еластичності та витрати по збереженню товарів на складі з ноутбука pricing.**"
   ]
  },
  {
   "cell_type": "code",
   "execution_count": 13,
   "metadata": {},
   "outputs": [],
   "source": [
    "from scipy.optimize import minimize\n",
    "\n",
    "np.random.seed(1729)\n",
    "plt.rcParams['figure.figsize'] = 15, 8"
   ]
  },
  {
   "cell_type": "code",
   "execution_count": 14,
   "metadata": {},
   "outputs": [
    {
     "data": {
      "text/plain": [
       "[<matplotlib.lines.Line2D at 0x1b3ba687e80>]"
      ]
     },
     "execution_count": 14,
     "metadata": {},
     "output_type": "execute_result"
    },
    {
     "data": {
      "image/png": "[encoded data removed]",
      "text/plain": [
       "<Figure size 1080x576 with 1 Axes>"
      ]
     },
     "metadata": {
      "needs_background": "light"
     },
     "output_type": "display_data"
    }
   ],
   "source": [
    "def inventory(x):\n",
    "    a = 0.2\n",
    "    return 250 * np.log(x + 5)\n",
    "inv_level = np.linspace(0, 100, 100)\n",
    "plt.plot(inv_level, inventory(inv_level))"
   ]
  },
  {
   "cell_type": "code",
   "execution_count": 15,
   "metadata": {},
   "outputs": [],
   "source": [
    "total_items = 100"
   ]
  },
  {
   "cell_type": "code",
   "execution_count": 16,
   "metadata": {},
   "outputs": [
    {
     "name": "stdout",
     "output_type": "stream",
     "text": [
      "402.3594781085251\n",
      "1163.4900875393807\n"
     ]
    }
   ],
   "source": [
    "print(inventory(0))\n",
    "print(inventory(total_items))"
   ]
  },
  {
   "cell_type": "code",
   "execution_count": 17,
   "metadata": {},
   "outputs": [
    {
     "data": {
      "text/plain": [
       "[<matplotlib.lines.Line2D at 0x1b3ba6e9a00>]"
      ]
     },
     "execution_count": 17,
     "metadata": {},
     "output_type": "execute_result"
    },
    {
     "data": {
      "image/png": "[encoded data removed]",
      "text/plain": [
       "<Figure size 1080x576 with 1 Axes>"
      ]
     },
     "metadata": {
      "needs_background": "light"
     },
     "output_type": "display_data"
    }
   ],
   "source": [
    "a = 224.386887 #min forecast\n",
    "b = 309.191369 #max forecast\n",
    "\n",
    "def elasticity_func(x):\n",
    "    return b * np.exp(-0.26 * x) * 1e11 + a\n",
    "\n",
    "pricing_level = np.linspace(100, 120, 100)\n",
    "plt.plot(pricing_level, elasticity_func(pricing_level))"
   ]
  },
  {
   "cell_type": "code",
   "execution_count": 18,
   "metadata": {},
   "outputs": [],
   "source": [
    "min_price = 100\n",
    "max_price = 120"
   ]
  },
  {
   "cell_type": "code",
   "execution_count": 19,
   "metadata": {},
   "outputs": [
    {
     "name": "stdout",
     "output_type": "stream",
     "text": [
      "382.3555100929779\n",
      "225.25833108575128\n"
     ]
    }
   ],
   "source": [
    "print(elasticity_func(min_price))\n",
    "print(elasticity_func(max_price))"
   ]
  },
  {
   "cell_type": "code",
   "execution_count": 20,
   "metadata": {},
   "outputs": [],
   "source": [
    "def obj(x):\n",
    "    forecast = [309.191369, 284.903280, 259.736828, 234.424177, 224.386887, 241.511760, \n",
    "                250.088411, 265.726641, 262.606300, 298.074115, 302.367941, 308.476907]\n",
    "    m = 12\n",
    "    income = np.sum(x)  \n",
    "\n",
    "    for i in range(m):\n",
    "        sold_production = elasticity_func(x[i])\n",
    "        \n",
    "        if (sold_production < forecast[i]):  # and if bigger - it's not optimal\n",
    "            to_inventory = forecast[i] - sold_production \n",
    "            income -= inventory(to_inventory)\n",
    "            \n",
    "            if i != (m-1):  # sold it next month\n",
    "                forecast[i+1] += to_inventory\n",
    "    return -income"
   ]
  },
  {
   "cell_type": "code",
   "execution_count": 21,
   "metadata": {},
   "outputs": [],
   "source": [
    "### inventory can hold only 100 units of production ###\n",
    "def constraint(x):\n",
    "    total_items = 100\n",
    "    forecast = [309.191369, 284.903280, 259.736828, 234.424177, 224.386887, 241.511760, \n",
    "                250.088411, 265.726641, 262.606300, 298.074115, 302.367941, 308.476907]\n",
    "    m = 12\n",
    "    \n",
    "    to_inventory = 0\n",
    "    for i in range(m):\n",
    "        sold_production = elasticity_func(x[i])\n",
    "        \n",
    "        if (sold_production < forecast[i]):\n",
    "            to_inventory = forecast[i] - sold_production \n",
    "            \n",
    "            if i != (m-1):  # sold it next month\n",
    "                forecast[i+1] += to_inventory\n",
    "                \n",
    "            if to_inventory > total_items:\n",
    "                return total_items - to_inventory\n",
    "    return 0\n",
    "\n",
    "\n",
    "con = {'type': 'ineq', 'fun': constraint}"
   ]
  },
  {
   "cell_type": "code",
   "execution_count": 22,
   "metadata": {},
   "outputs": [
    {
     "data": {
      "text/plain": [
       "[(100, 120),\n",
       " (100, 120),\n",
       " (100, 120),\n",
       " (100, 120),\n",
       " (100, 120),\n",
       " (100, 120),\n",
       " (100, 120),\n",
       " (100, 120),\n",
       " (100, 120),\n",
       " (100, 120),\n",
       " (100, 120),\n",
       " (100, 120)]"
      ]
     },
     "execution_count": 22,
     "metadata": {},
     "output_type": "execute_result"
    }
   ],
   "source": [
    "### bounds for price [100, 120] ###\n",
    "m = 12\n",
    "bnds = [(min_price, max_price) for _ in range(m)]\n",
    "bnds"
   ]
  },
  {
   "cell_type": "code",
   "execution_count": 23,
   "metadata": {},
   "outputs": [],
   "source": [
    "x0 = 110. * np.ones(m)"
   ]
  },
  {
   "cell_type": "code",
   "execution_count": 24,
   "metadata": {},
   "outputs": [
    {
     "name": "stdout",
     "output_type": "stream",
     "text": [
      "Optimization terminated successfully    (Exit mode 0)\n",
      "            Current function value: -1237.4679064537515\n",
      "            Iterations: 15\n",
      "            Function evaluations: 203\n",
      "            Gradient evaluations: 14\n"
     ]
    }
   ],
   "source": [
    "solution = minimize(obj, x0, method='SLSQP', bounds=bnds, constraints=con, tol=0.01, options={\"maxiter\":10000, 'disp': True})"
   ]
  },
  {
   "cell_type": "code",
   "execution_count": 25,
   "metadata": {},
   "outputs": [
    {
     "data": {
      "text/plain": [
       "array([101.7984944 , 103.67836274, 103.77218951, 103.85129137,\n",
       "       103.93129245, 104.01814446, 104.10171009, 104.17781133,\n",
       "       103.89395769, 102.0787716 , 102.07877268, 100.08710814])"
      ]
     },
     "execution_count": 25,
     "metadata": {},
     "output_type": "execute_result"
    }
   ],
   "source": [
    "x = solution.x\n",
    "x"
   ]
  },
  {
   "cell_type": "code",
   "execution_count": 26,
   "metadata": {},
   "outputs": [
    {
     "name": "stdout",
     "output_type": "stream",
     "text": [
      "Final Income: 1237.4679064537515\n"
     ]
    }
   ],
   "source": [
    "# show final income\n",
    "print('Final Income: ' + str(-obj(x)))"
   ]
  },
  {
   "cell_type": "code",
   "execution_count": null,
   "metadata": {},
   "outputs": [],
   "source": []
  }
 ],
 "metadata": {
  "kernelspec": {
   "display_name": "Python 3",
   "language": "python",
   "name": "python3"
  },
  "language_info": {
   "codemirror_mode": {
    "name": "ipython",
    "version": 3
   },
   "file_extension": ".py",
   "mimetype": "text/x-python",
   "name": "python",
   "nbconvert_exporter": "python",
   "pygments_lexer": "ipython3",
   "version": "3.8.3"
  }
 },
 "nbformat": 4,
 "nbformat_minor": 4
}
